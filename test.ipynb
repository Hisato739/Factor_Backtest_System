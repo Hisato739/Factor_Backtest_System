{
 "cells": [
  {
   "cell_type": "code",
   "execution_count": 1,
   "metadata": {},
   "outputs": [],
   "source": [
    "import numpy as np\n",
    "import pandas as pd\n",
    "import matplotlib.pyplot as plt\n",
    "plt.rcParams['font.sans-serif'] = ['SimHei']\n",
    "plt.rcParams['axes.unicode_minus'] = False\n",
    "import warnings\n",
    "warnings.filterwarnings('ignore')\n",
    "from mysystem.utils import *\n",
    "from mysystem.backtest import AlphaBacktest"
   ]
  },
  {
   "cell_type": "code",
   "execution_count": 2,
   "metadata": {},
   "outputs": [],
   "source": [
    "ticker_list = get_ticker_list()\n",
    "date_list = get_date_list()\n",
    "\n",
    "data_dict = get_item(['close_adj','volume'])\n",
    "project_name = 'project1'"
   ]
  },
  {
   "cell_type": "code",
   "execution_count": 3,
   "metadata": {},
   "outputs": [],
   "source": [
    "alpha1 = -data_dict['close_adj'].pct_change(5).shift()\n",
    "alpha1 = OpZscore(OpCleanOutlier(valid_filter(alpha1, 'HS300')))\n",
    "\n",
    "alpha2 = -data_dict['close_adj'].pct_change(20).shift()\n",
    "alpha2 = OpZscore(OpCleanOutlier(valid_filter(alpha2, 'HS300')))\n",
    "\n",
    "alpha3 = -(data_dict['volume'] / data_dict['volume'].rolling(5).mean()).shift()\n",
    "alpha3 = OpZscore(OpCleanOutlier(valid_filter(alpha3, 'HS300')))"
   ]
  },
  {
   "cell_type": "code",
   "execution_count": 4,
   "metadata": {},
   "outputs": [],
   "source": [
    "alpha_dict = {'5dr': alpha1, '20dr': alpha2, 'volume_ratio': alpha3}"
   ]
  },
  {
   "cell_type": "code",
   "execution_count": 5,
   "metadata": {},
   "outputs": [
    {
     "name": "stdout",
     "output_type": "stream",
     "text": [
      "=====5dr开始回测=====\n",
      "-----已输出5dr因子值文件-----\n",
      "-----已输出5dr权重文件-----\n"
     ]
    },
    {
     "name": "stderr",
     "output_type": "stream",
     "text": [
      "100%|██████████| 611/611 [00:41<00:00, 14.58it/s]\n"
     ]
    },
    {
     "name": "stdout",
     "output_type": "stream",
     "text": [
      "-----5dr收益计算完毕\n",
      "-----5dr性能指标计算完毕\n",
      "=====20dr开始回测=====\n",
      "-----已输出20dr因子值文件-----\n",
      "-----已输出20dr权重文件-----\n"
     ]
    },
    {
     "name": "stderr",
     "output_type": "stream",
     "text": [
      "100%|██████████| 611/611 [00:42<00:00, 14.37it/s]\n"
     ]
    },
    {
     "name": "stdout",
     "output_type": "stream",
     "text": [
      "-----20dr收益计算完毕\n",
      "-----20dr性能指标计算完毕\n",
      "=====volume_ratio开始回测=====\n",
      "-----已输出volume_ratio因子值文件-----\n",
      "-----已输出volume_ratio权重文件-----\n"
     ]
    },
    {
     "name": "stderr",
     "output_type": "stream",
     "text": [
      "100%|██████████| 611/611 [00:42<00:00, 14.51it/s]\n"
     ]
    },
    {
     "name": "stdout",
     "output_type": "stream",
     "text": [
      "-----volume_ratio收益计算完毕\n",
      "-----volume_ratio性能指标计算完毕\n",
      "-----已输出全因子pnl文件-----\n",
      "-----已输出全因子回测指标文件-----\n",
      "-----已输出相关系数矩阵文件-----\n",
      "=====全因子结束回测=====\n"
     ]
    }
   ],
   "source": [
    "AlphaBacktest(alpha_dict, project_name).start_backtest('20200701','20221231')"
   ]
  },
  {
   "cell_type": "code",
   "execution_count": null,
   "metadata": {},
   "outputs": [],
   "source": []
  }
 ],
 "metadata": {
  "kernelspec": {
   "display_name": "pytorch",
   "language": "python",
   "name": "python3"
  },
  "language_info": {
   "codemirror_mode": {
    "name": "ipython",
    "version": 3
   },
   "file_extension": ".py",
   "mimetype": "text/x-python",
   "name": "python",
   "nbconvert_exporter": "python",
   "pygments_lexer": "ipython3",
   "version": "3.11.0"
  }
 },
 "nbformat": 4,
 "nbformat_minor": 2
}
